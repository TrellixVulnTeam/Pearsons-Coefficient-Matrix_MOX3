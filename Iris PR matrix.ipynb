{
 "cells": [
  {
   "cell_type": "markdown",
   "metadata": {},
   "source": [
    "# Assignment # 3 by Obaidullah GCS 1947"
   ]
  },
  {
   "cell_type": "code",
   "execution_count": 75,
   "metadata": {},
   "outputs": [],
   "source": [
    "import pandas as pd\n",
    "import numpy as np\n",
    "import sys\n",
    "import matplotlib.pyplot as plt\n",
    "\n",
    "\n",
    "np.set_printoptions(threshold=np.inf)\n",
    "\n"
   ]
  },
  {
   "cell_type": "code",
   "execution_count": 76,
   "metadata": {},
   "outputs": [],
   "source": [
    "\n",
    "df = pd.read_csv('iris.data', header=None)\n",
    "df = df.drop(4, axis=1)\n"
   ]
  },
  {
   "cell_type": "code",
   "execution_count": 77,
   "metadata": {},
   "outputs": [],
   "source": [
    "#make two copies of Data, \n",
    "# data and datap \n",
    "# Take each row of data and cycle through each row of Datap\n",
    "\n",
    "data = df.to_numpy()\n",
    "datap = data.copy()\n",
    "\n",
    "records, col = data.shape"
   ]
  },
  {
   "cell_type": "code",
   "execution_count": 78,
   "metadata": {},
   "outputs": [],
   "source": [
    "\n",
    "\n",
    "crm = np.zeros(records*records).reshape(records,records)\n"
   ]
  },
  {
   "cell_type": "code",
   "execution_count": 79,
   "metadata": {},
   "outputs": [],
   "source": [
    "\n",
    "#calculate the Pearson's Coefficient for each row with other row\n",
    "\n",
    "counter = 0\n",
    "product1 = 0\n",
    "denominator = 0\n",
    "for idx, row in enumerate(data):\n",
    "    for jdx, irow in enumerate(datap):\n",
    "        # X is the data row\n",
    "        x = np.subtract(row, np.mean(row));\n",
    "        # Y is the row from Datap\n",
    "        y = np.subtract(irow, np.mean(irow));\n",
    "        \n",
    "        # SQRX is the sum of all mean subtracted X's Squared \n",
    "        sqrx = np.sum(np.power(np.subtract(row, np.mean(row)),2));\n",
    "       \n",
    "        #SQRI is the sum of all mean subtracted Y's\n",
    "        sqirow = np.sum(np.power(np.subtract(irow, np.mean(irow)),2));\n",
    "        \n",
    "        # Calculate their Denominator and Numerator\n",
    "        numerator = np.sum(np.multiply(x,y));\n",
    "        deno = np.power(np.multiply(sqrx,sqirow), 0.5);\n",
    "        \n",
    "        #Calculate Pearson cofficient between X and Y\n",
    "        r = np.divide(numerator, deno);\n",
    "        crm[idx, jdx] = r\n",
    "    \n",
    "  \n",
    "\n",
    "# Uncomment this line below to print the Coefficient Matrix \n",
    "#print(crm)       \n",
    "        \n",
    "        "
   ]
  },
  {
   "cell_type": "code",
   "execution_count": 80,
   "metadata": {},
   "outputs": [],
   "source": [
    "#  THresholding Mean / Median Values in the Matrix\n",
    "colmean = np.mean(crm, axis=0)\n",
    "colmedian = np.median(crm, axis=0)\n",
    "\n",
    "\n",
    "threshold = np.divide(colmean,colmedian)\n"
   ]
  },
  {
   "cell_type": "code",
   "execution_count": 81,
   "metadata": {},
   "outputs": [],
   "source": [
    "\n",
    "for idx, col in enumerate(crm.T):\n",
    "    for jdx, value in enumerate(col):\n",
    "        \n",
    "       # Descritize the Matrix correlation matrix CRM\n",
    "\n",
    "        if value > threshold[idx]:\n",
    "            crm.T[idx,jdx] = 1\n",
    "           \n",
    "        else:\n",
    "            crm.T[idx,jdx] = 0    \n",
    "            \n",
    "\n",
    "        "
   ]
  },
  {
   "cell_type": "code",
   "execution_count": 82,
   "metadata": {},
   "outputs": [],
   "source": [
    "#Run THis to Print coefficient Matrix\n",
    "\n",
    "\n",
    "#print(crm)"
   ]
  },
  {
   "cell_type": "code",
   "execution_count": 83,
   "metadata": {},
   "outputs": [
    {
     "data": {
      "image/png": "[encoded data removed]",
      "text/plain": [
       "<Figure size 432x288 with 1 Axes>"
      ]
     },
     "metadata": {
      "needs_background": "light"
     },
     "output_type": "display_data"
    }
   ],
   "source": [
    "plt.imshow(crm)\n",
    "plt.show()"
   ]
  },
  {
   "cell_type": "code",
   "execution_count": null,
   "metadata": {},
   "outputs": [],
   "source": []
  },
  {
   "cell_type": "markdown",
   "metadata": {},
   "source": []
  }
 ],
 "metadata": {
  "kernelspec": {
   "display_name": "Python 3",
   "language": "python",
   "name": "python3"
  },
  "language_info": {
   "codemirror_mode": {
    "name": "ipython",
    "version": 3
   },
   "file_extension": ".py",
   "mimetype": "text/x-python",
   "name": "python",
   "nbconvert_exporter": "python",
   "pygments_lexer": "ipython3",
   "version": "3.8.5"
  }
 },
 "nbformat": 4,
 "nbformat_minor": 4
}
